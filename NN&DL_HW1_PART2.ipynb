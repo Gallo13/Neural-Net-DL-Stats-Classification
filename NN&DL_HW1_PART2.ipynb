{
 "cells": [
  {
   "cell_type": "code",
   "execution_count": 1,
   "metadata": {},
   "outputs": [],
   "source": [
    "# Jessica Gallo\n",
    "# Created: 9/18/2020\n",
    "# Last modified: 9/28/2020\n",
    "# Neural Networks & Deep Learning\n",
    "# HW#1 Descriptive Statistics, Classification and Analysis Using \n",
    "# Python & Python Libraries\n",
    "# Part 2"
   ]
  },
  {
   "cell_type": "code",
   "execution_count": 2,
   "metadata": {},
   "outputs": [
    {
     "name": "stdout",
     "output_type": "stream",
     "text": [
      "['/device:CPU:0', '/device:GPU:0']\n"
     ]
    }
   ],
   "source": [
    "# ----------------\n",
    "# Setting up GPU |\n",
    "# ---------------\n",
    "\n",
    "# anaconda prompt: activate tensorflow\n",
    "\n",
    "from tensorflow.python.client import device_lib\n",
    "\n",
    "# Checks to see available devices (CPU and GPU)\n",
    "def get_available_devices():\n",
    "    local_device_protos = device_lib.list_local_devices()\n",
    "    return [x.name for x in local_device_protos]\n",
    "\n",
    "print(get_available_devices())"
   ]
  },
  {
   "cell_type": "code",
   "execution_count": 3,
   "metadata": {},
   "outputs": [
    {
     "name": "stdout",
     "output_type": "stream",
     "text": [
      "Num GPUs Available:  1\n"
     ]
    }
   ],
   "source": [
    "from __future__ import absolute_import, division, print_function, unicode_literals\n",
    "import tensorflow as tf\n",
    "\n",
    "# Configures GPU Usage\n",
    "print(\"Num GPUs Available: \", \n",
    "      len(tf.config.experimental.list_physical_devices('GPU')))"
   ]
  },
  {
   "cell_type": "code",
   "execution_count": 4,
   "metadata": {},
   "outputs": [],
   "source": [
    "# Imports\n",
    "# Data Preprocessing\n",
    "from pandas import concat\n",
    "import numpy as np\n",
    "from sklearn.impute import SimpleImputer\n",
    "from sklearn.preprocessing import OneHotEncoder, LabelEncoder\n",
    "from sklearn import preprocessing\n",
    "# listing 6\n",
    "from pandas import read_csv\n",
    "from pandas import set_option  # Pairwise Pearson Corr\n",
    "from matplotlib import pyplot  # Histograms/Density/Box & Whisker/Correlation Matrix\n",
    "import numpy  # Correlation Matrix\n",
    "# listing 7\n",
    "from numpy import set_printoptions  # Rescaling/Standardize/Normalize/Binarize\n",
    "from sklearn.preprocessing import MinMaxScaler, Binarizer  # Rescaling\n",
    "from sklearn.preprocessing import StandardScaler  # Standardize\n",
    "from sklearn.preprocessing import Normalizer  # Normalize\n",
    "import pandas as pd"
   ]
  },
  {
   "cell_type": "code",
   "execution_count": 5,
   "metadata": {},
   "outputs": [
    {
     "name": "stdout",
     "output_type": "stream",
     "text": [
      "Original Dataset:\n",
      "-----------------\n"
     ]
    },
    {
     "data": {
      "text/html": [
       "<div>\n",
       "<style scoped>\n",
       "    .dataframe tbody tr th:only-of-type {\n",
       "        vertical-align: middle;\n",
       "    }\n",
       "\n",
       "    .dataframe tbody tr th {\n",
       "        vertical-align: top;\n",
       "    }\n",
       "\n",
       "    .dataframe thead th {\n",
       "        text-align: right;\n",
       "    }\n",
       "</style>\n",
       "<table border=\"1\" class=\"dataframe\">\n",
       "  <thead>\n",
       "    <tr style=\"text-align: right;\">\n",
       "      <th></th>\n",
       "      <th>type</th>\n",
       "      <th>fixed acidity</th>\n",
       "      <th>volatile acidity</th>\n",
       "      <th>citric acid</th>\n",
       "      <th>residual sugar</th>\n",
       "      <th>chlorides</th>\n",
       "      <th>free sulfur dioxide</th>\n",
       "      <th>total sulfur dioxide</th>\n",
       "      <th>density</th>\n",
       "      <th>pH</th>\n",
       "      <th>sulphates</th>\n",
       "      <th>alcohol</th>\n",
       "      <th>quality</th>\n",
       "    </tr>\n",
       "  </thead>\n",
       "  <tbody>\n",
       "    <tr>\n",
       "      <th>0</th>\n",
       "      <td>white</td>\n",
       "      <td>7.0</td>\n",
       "      <td>0.27</td>\n",
       "      <td>0.36</td>\n",
       "      <td>20.7</td>\n",
       "      <td>0.045</td>\n",
       "      <td>45.0</td>\n",
       "      <td>170.0</td>\n",
       "      <td>1.0010</td>\n",
       "      <td>3.00</td>\n",
       "      <td>0.45</td>\n",
       "      <td>8.8</td>\n",
       "      <td>6</td>\n",
       "    </tr>\n",
       "    <tr>\n",
       "      <th>1</th>\n",
       "      <td>white</td>\n",
       "      <td>6.3</td>\n",
       "      <td>0.30</td>\n",
       "      <td>0.34</td>\n",
       "      <td>1.6</td>\n",
       "      <td>0.049</td>\n",
       "      <td>14.0</td>\n",
       "      <td>132.0</td>\n",
       "      <td>0.9940</td>\n",
       "      <td>3.30</td>\n",
       "      <td>0.49</td>\n",
       "      <td>9.5</td>\n",
       "      <td>6</td>\n",
       "    </tr>\n",
       "    <tr>\n",
       "      <th>2</th>\n",
       "      <td>white</td>\n",
       "      <td>8.1</td>\n",
       "      <td>0.28</td>\n",
       "      <td>0.40</td>\n",
       "      <td>6.9</td>\n",
       "      <td>0.050</td>\n",
       "      <td>30.0</td>\n",
       "      <td>97.0</td>\n",
       "      <td>0.9951</td>\n",
       "      <td>3.26</td>\n",
       "      <td>0.44</td>\n",
       "      <td>10.1</td>\n",
       "      <td>6</td>\n",
       "    </tr>\n",
       "    <tr>\n",
       "      <th>3</th>\n",
       "      <td>white</td>\n",
       "      <td>7.2</td>\n",
       "      <td>0.23</td>\n",
       "      <td>0.32</td>\n",
       "      <td>8.5</td>\n",
       "      <td>0.058</td>\n",
       "      <td>47.0</td>\n",
       "      <td>186.0</td>\n",
       "      <td>0.9956</td>\n",
       "      <td>3.19</td>\n",
       "      <td>0.40</td>\n",
       "      <td>9.9</td>\n",
       "      <td>6</td>\n",
       "    </tr>\n",
       "    <tr>\n",
       "      <th>4</th>\n",
       "      <td>white</td>\n",
       "      <td>7.2</td>\n",
       "      <td>0.23</td>\n",
       "      <td>0.32</td>\n",
       "      <td>8.5</td>\n",
       "      <td>0.058</td>\n",
       "      <td>47.0</td>\n",
       "      <td>186.0</td>\n",
       "      <td>0.9956</td>\n",
       "      <td>3.19</td>\n",
       "      <td>0.40</td>\n",
       "      <td>9.9</td>\n",
       "      <td>6</td>\n",
       "    </tr>\n",
       "    <tr>\n",
       "      <th>5</th>\n",
       "      <td>white</td>\n",
       "      <td>8.1</td>\n",
       "      <td>0.28</td>\n",
       "      <td>0.40</td>\n",
       "      <td>6.9</td>\n",
       "      <td>0.050</td>\n",
       "      <td>30.0</td>\n",
       "      <td>97.0</td>\n",
       "      <td>0.9951</td>\n",
       "      <td>3.26</td>\n",
       "      <td>0.44</td>\n",
       "      <td>10.1</td>\n",
       "      <td>6</td>\n",
       "    </tr>\n",
       "    <tr>\n",
       "      <th>6</th>\n",
       "      <td>white</td>\n",
       "      <td>6.2</td>\n",
       "      <td>0.32</td>\n",
       "      <td>0.16</td>\n",
       "      <td>7.0</td>\n",
       "      <td>0.045</td>\n",
       "      <td>30.0</td>\n",
       "      <td>136.0</td>\n",
       "      <td>0.9949</td>\n",
       "      <td>3.18</td>\n",
       "      <td>0.47</td>\n",
       "      <td>9.6</td>\n",
       "      <td>6</td>\n",
       "    </tr>\n",
       "    <tr>\n",
       "      <th>7</th>\n",
       "      <td>white</td>\n",
       "      <td>7.0</td>\n",
       "      <td>0.27</td>\n",
       "      <td>0.36</td>\n",
       "      <td>20.7</td>\n",
       "      <td>0.045</td>\n",
       "      <td>45.0</td>\n",
       "      <td>170.0</td>\n",
       "      <td>1.0010</td>\n",
       "      <td>3.00</td>\n",
       "      <td>0.45</td>\n",
       "      <td>8.8</td>\n",
       "      <td>6</td>\n",
       "    </tr>\n",
       "    <tr>\n",
       "      <th>8</th>\n",
       "      <td>white</td>\n",
       "      <td>6.3</td>\n",
       "      <td>0.30</td>\n",
       "      <td>0.34</td>\n",
       "      <td>1.6</td>\n",
       "      <td>0.049</td>\n",
       "      <td>14.0</td>\n",
       "      <td>132.0</td>\n",
       "      <td>0.9940</td>\n",
       "      <td>3.30</td>\n",
       "      <td>0.49</td>\n",
       "      <td>9.5</td>\n",
       "      <td>6</td>\n",
       "    </tr>\n",
       "    <tr>\n",
       "      <th>9</th>\n",
       "      <td>white</td>\n",
       "      <td>8.1</td>\n",
       "      <td>0.22</td>\n",
       "      <td>0.43</td>\n",
       "      <td>1.5</td>\n",
       "      <td>0.044</td>\n",
       "      <td>28.0</td>\n",
       "      <td>129.0</td>\n",
       "      <td>0.9938</td>\n",
       "      <td>3.22</td>\n",
       "      <td>0.45</td>\n",
       "      <td>11.0</td>\n",
       "      <td>6</td>\n",
       "    </tr>\n",
       "  </tbody>\n",
       "</table>\n",
       "</div>"
      ],
      "text/plain": [
       "    type  fixed acidity  volatile acidity  citric acid  residual sugar  \\\n",
       "0  white            7.0              0.27         0.36            20.7   \n",
       "1  white            6.3              0.30         0.34             1.6   \n",
       "2  white            8.1              0.28         0.40             6.9   \n",
       "3  white            7.2              0.23         0.32             8.5   \n",
       "4  white            7.2              0.23         0.32             8.5   \n",
       "5  white            8.1              0.28         0.40             6.9   \n",
       "6  white            6.2              0.32         0.16             7.0   \n",
       "7  white            7.0              0.27         0.36            20.7   \n",
       "8  white            6.3              0.30         0.34             1.6   \n",
       "9  white            8.1              0.22         0.43             1.5   \n",
       "\n",
       "   chlorides  free sulfur dioxide  total sulfur dioxide  density    pH  \\\n",
       "0      0.045                 45.0                 170.0   1.0010  3.00   \n",
       "1      0.049                 14.0                 132.0   0.9940  3.30   \n",
       "2      0.050                 30.0                  97.0   0.9951  3.26   \n",
       "3      0.058                 47.0                 186.0   0.9956  3.19   \n",
       "4      0.058                 47.0                 186.0   0.9956  3.19   \n",
       "5      0.050                 30.0                  97.0   0.9951  3.26   \n",
       "6      0.045                 30.0                 136.0   0.9949  3.18   \n",
       "7      0.045                 45.0                 170.0   1.0010  3.00   \n",
       "8      0.049                 14.0                 132.0   0.9940  3.30   \n",
       "9      0.044                 28.0                 129.0   0.9938  3.22   \n",
       "\n",
       "   sulphates  alcohol  quality  \n",
       "0       0.45      8.8        6  \n",
       "1       0.49      9.5        6  \n",
       "2       0.44     10.1        6  \n",
       "3       0.40      9.9        6  \n",
       "4       0.40      9.9        6  \n",
       "5       0.44     10.1        6  \n",
       "6       0.47      9.6        6  \n",
       "7       0.45      8.8        6  \n",
       "8       0.49      9.5        6  \n",
       "9       0.45     11.0        6  "
      ]
     },
     "execution_count": 5,
     "metadata": {},
     "output_type": "execute_result"
    }
   ],
   "source": [
    "# ----------------------\n",
    "# Wine Quality DATASET |\n",
    "# ---------------------\n",
    "\n",
    "filename = \"./Downloads/winequalityN.csv\"  # csv/text file\n",
    "# names = ['type', 'fixed acidity', 'volatile acidity', 'citric acid', 'residual sugar', 'chlorides', 'free sulfur dioxide', \n",
    "#          'total sulfur dioxide', 'density', 'pH', 'sulphates', 'alcohol', 'quality']  # columns on dataset\n",
    "# data = read_csv(filename, names=names)  # reads the info on csv/txt file\n",
    "dataSetCsv = pd.read_csv(filename, ',', error_bad_lines=False) #, names=names)\n",
    "dataset = pd.DataFrame(dataSetCsv)\n",
    "\n",
    "print('Original Dataset:\\n'\n",
    "     '-----------------')\n",
    "dataset.head(10)"
   ]
  },
  {
   "cell_type": "code",
   "execution_count": 6,
   "metadata": {},
   "outputs": [],
   "source": [
    "# ===========================================================================\n",
    "# Data Preprocessing\n",
    "# ==========================================================================="
   ]
  },
  {
   "cell_type": "code",
   "execution_count": 7,
   "metadata": {},
   "outputs": [
    {
     "name": "stdout",
     "output_type": "stream",
     "text": [
      "Type Column:\n",
      "------------\n",
      "    type\n",
      "0  white\n",
      "1  white\n",
      "2  white \n",
      "\n",
      "     type\n",
      "6494  red\n",
      "6495  red\n",
      "6496  red\n"
     ]
    }
   ],
   "source": [
    "types = dataset.select_dtypes(include=[object])\n",
    "# takes out object type columns\n",
    "\n",
    "print('Type Column:\\n'\n",
    "     '------------')\n",
    "print(types.head(3), '\\n')\n",
    "print(types.tail(3))"
   ]
  },
  {
   "cell_type": "code",
   "execution_count": 8,
   "metadata": {},
   "outputs": [
    {
     "name": "stdout",
     "output_type": "stream",
     "text": [
      "(6497, 1)\n",
      "Index(['type'], dtype='object')\n"
     ]
    }
   ],
   "source": [
    "print(types.shape)\n",
    "# displays types column shape\n",
    "print(types.columns)\n",
    "# shows types column is still an object datatype"
   ]
  },
  {
   "cell_type": "code",
   "execution_count": 9,
   "metadata": {},
   "outputs": [
    {
     "name": "stdout",
     "output_type": "stream",
     "text": [
      "   type\n",
      "0     1\n",
      "1     1\n",
      "2     1 \n",
      "\n",
      "      type\n",
      "6494     0\n",
      "6495     0\n",
      "6496     0\n"
     ]
    }
   ],
   "source": [
    "le = preprocessing.LabelEncoder()\n",
    "types_num = types.apply(le.fit_transform)\n",
    "# use label encorder to change white -> 1 and red-> 0\n",
    "\n",
    "print(types_num.head(3),'\\n') # shows the first 3 rows that have type=white\n",
    "print(types_num.tail(3)) # shows the last 3 rows that have type=red"
   ]
  },
  {
   "cell_type": "code",
   "execution_count": 10,
   "metadata": {},
   "outputs": [
    {
     "name": "stdout",
     "output_type": "stream",
     "text": [
      "Concatinated Dataset with both type columns:\n",
      "--------------------------------------------\n"
     ]
    },
    {
     "data": {
      "text/html": [
       "<div>\n",
       "<style scoped>\n",
       "    .dataframe tbody tr th:only-of-type {\n",
       "        vertical-align: middle;\n",
       "    }\n",
       "\n",
       "    .dataframe tbody tr th {\n",
       "        vertical-align: top;\n",
       "    }\n",
       "\n",
       "    .dataframe thead th {\n",
       "        text-align: right;\n",
       "    }\n",
       "</style>\n",
       "<table border=\"1\" class=\"dataframe\">\n",
       "  <thead>\n",
       "    <tr style=\"text-align: right;\">\n",
       "      <th></th>\n",
       "      <th>type</th>\n",
       "      <th>type</th>\n",
       "      <th>fixed acidity</th>\n",
       "      <th>volatile acidity</th>\n",
       "      <th>citric acid</th>\n",
       "      <th>residual sugar</th>\n",
       "      <th>chlorides</th>\n",
       "      <th>free sulfur dioxide</th>\n",
       "      <th>total sulfur dioxide</th>\n",
       "      <th>density</th>\n",
       "      <th>pH</th>\n",
       "      <th>sulphates</th>\n",
       "      <th>alcohol</th>\n",
       "      <th>quality</th>\n",
       "    </tr>\n",
       "  </thead>\n",
       "  <tbody>\n",
       "    <tr>\n",
       "      <th>0</th>\n",
       "      <td>1</td>\n",
       "      <td>white</td>\n",
       "      <td>7.0</td>\n",
       "      <td>0.27</td>\n",
       "      <td>0.36</td>\n",
       "      <td>20.7</td>\n",
       "      <td>0.045</td>\n",
       "      <td>45.0</td>\n",
       "      <td>170.0</td>\n",
       "      <td>1.0010</td>\n",
       "      <td>3.00</td>\n",
       "      <td>0.45</td>\n",
       "      <td>8.8</td>\n",
       "      <td>6</td>\n",
       "    </tr>\n",
       "    <tr>\n",
       "      <th>1</th>\n",
       "      <td>1</td>\n",
       "      <td>white</td>\n",
       "      <td>6.3</td>\n",
       "      <td>0.30</td>\n",
       "      <td>0.34</td>\n",
       "      <td>1.6</td>\n",
       "      <td>0.049</td>\n",
       "      <td>14.0</td>\n",
       "      <td>132.0</td>\n",
       "      <td>0.9940</td>\n",
       "      <td>3.30</td>\n",
       "      <td>0.49</td>\n",
       "      <td>9.5</td>\n",
       "      <td>6</td>\n",
       "    </tr>\n",
       "    <tr>\n",
       "      <th>2</th>\n",
       "      <td>1</td>\n",
       "      <td>white</td>\n",
       "      <td>8.1</td>\n",
       "      <td>0.28</td>\n",
       "      <td>0.40</td>\n",
       "      <td>6.9</td>\n",
       "      <td>0.050</td>\n",
       "      <td>30.0</td>\n",
       "      <td>97.0</td>\n",
       "      <td>0.9951</td>\n",
       "      <td>3.26</td>\n",
       "      <td>0.44</td>\n",
       "      <td>10.1</td>\n",
       "      <td>6</td>\n",
       "    </tr>\n",
       "  </tbody>\n",
       "</table>\n",
       "</div>"
      ],
      "text/plain": [
       "  type   type  fixed acidity  volatile acidity  citric acid  residual sugar  \\\n",
       "0    1  white            7.0              0.27         0.36            20.7   \n",
       "1    1  white            6.3              0.30         0.34             1.6   \n",
       "2    1  white            8.1              0.28         0.40             6.9   \n",
       "\n",
       "   chlorides  free sulfur dioxide  total sulfur dioxide  density    pH  \\\n",
       "0      0.045                 45.0                 170.0   1.0010  3.00   \n",
       "1      0.049                 14.0                 132.0   0.9940  3.30   \n",
       "2      0.050                 30.0                  97.0   0.9951  3.26   \n",
       "\n",
       "   sulphates  alcohol  quality  \n",
       "0       0.45      8.8        6  \n",
       "1       0.49      9.5        6  \n",
       "2       0.44     10.1        6  "
      ]
     },
     "execution_count": 10,
     "metadata": {},
     "output_type": "execute_result"
    }
   ],
   "source": [
    "df = concat([types_num, dataset], axis=1)\n",
    "# shows concatonated datasets with both label encoded type column and object type column\n",
    "\n",
    "print('Concatinated Dataset with both type columns:\\n'\n",
    "     '--------------------------------------------')\n",
    "df.head(3)"
   ]
  },
  {
   "cell_type": "code",
   "execution_count": 11,
   "metadata": {},
   "outputs": [
    {
     "name": "stdout",
     "output_type": "stream",
     "text": [
      "Dataset with new column name:\n",
      "-----------------------------\n"
     ]
    },
    {
     "data": {
      "text/html": [
       "<div>\n",
       "<style scoped>\n",
       "    .dataframe tbody tr th:only-of-type {\n",
       "        vertical-align: middle;\n",
       "    }\n",
       "\n",
       "    .dataframe tbody tr th {\n",
       "        vertical-align: top;\n",
       "    }\n",
       "\n",
       "    .dataframe thead th {\n",
       "        text-align: right;\n",
       "    }\n",
       "</style>\n",
       "<table border=\"1\" class=\"dataframe\">\n",
       "  <thead>\n",
       "    <tr style=\"text-align: right;\">\n",
       "      <th></th>\n",
       "      <th>type</th>\n",
       "      <th>char_type</th>\n",
       "      <th>fixed acidity</th>\n",
       "      <th>volatile acidity</th>\n",
       "      <th>citric acid</th>\n",
       "      <th>residual sugar</th>\n",
       "      <th>chlorides</th>\n",
       "      <th>free sulfur dioxide</th>\n",
       "      <th>total sulfur dioxide</th>\n",
       "      <th>density</th>\n",
       "      <th>pH</th>\n",
       "      <th>sulphates</th>\n",
       "      <th>alcohol</th>\n",
       "      <th>quality</th>\n",
       "    </tr>\n",
       "  </thead>\n",
       "  <tbody>\n",
       "    <tr>\n",
       "      <th>0</th>\n",
       "      <td>1</td>\n",
       "      <td>white</td>\n",
       "      <td>7.0</td>\n",
       "      <td>0.27</td>\n",
       "      <td>0.36</td>\n",
       "      <td>20.7</td>\n",
       "      <td>0.045</td>\n",
       "      <td>45.0</td>\n",
       "      <td>170.0</td>\n",
       "      <td>1.0010</td>\n",
       "      <td>3.00</td>\n",
       "      <td>0.45</td>\n",
       "      <td>8.8</td>\n",
       "      <td>6</td>\n",
       "    </tr>\n",
       "    <tr>\n",
       "      <th>1</th>\n",
       "      <td>1</td>\n",
       "      <td>white</td>\n",
       "      <td>6.3</td>\n",
       "      <td>0.30</td>\n",
       "      <td>0.34</td>\n",
       "      <td>1.6</td>\n",
       "      <td>0.049</td>\n",
       "      <td>14.0</td>\n",
       "      <td>132.0</td>\n",
       "      <td>0.9940</td>\n",
       "      <td>3.30</td>\n",
       "      <td>0.49</td>\n",
       "      <td>9.5</td>\n",
       "      <td>6</td>\n",
       "    </tr>\n",
       "    <tr>\n",
       "      <th>2</th>\n",
       "      <td>1</td>\n",
       "      <td>white</td>\n",
       "      <td>8.1</td>\n",
       "      <td>0.28</td>\n",
       "      <td>0.40</td>\n",
       "      <td>6.9</td>\n",
       "      <td>0.050</td>\n",
       "      <td>30.0</td>\n",
       "      <td>97.0</td>\n",
       "      <td>0.9951</td>\n",
       "      <td>3.26</td>\n",
       "      <td>0.44</td>\n",
       "      <td>10.1</td>\n",
       "      <td>6</td>\n",
       "    </tr>\n",
       "  </tbody>\n",
       "</table>\n",
       "</div>"
      ],
      "text/plain": [
       "   type char_type  fixed acidity  volatile acidity  citric acid  \\\n",
       "0     1     white            7.0              0.27         0.36   \n",
       "1     1     white            6.3              0.30         0.34   \n",
       "2     1     white            8.1              0.28         0.40   \n",
       "\n",
       "   residual sugar  chlorides  free sulfur dioxide  total sulfur dioxide  \\\n",
       "0            20.7      0.045                 45.0                 170.0   \n",
       "1             1.6      0.049                 14.0                 132.0   \n",
       "2             6.9      0.050                 30.0                  97.0   \n",
       "\n",
       "   density    pH  sulphates  alcohol  quality  \n",
       "0   1.0010  3.00       0.45      8.8        6  \n",
       "1   0.9940  3.30       0.49      9.5        6  \n",
       "2   0.9951  3.26       0.44     10.1        6  "
      ]
     },
     "execution_count": 11,
     "metadata": {},
     "output_type": "execute_result"
    }
   ],
   "source": [
    "df.columns = ['type', 'char_type', 'fixed acidity', 'volatile acidity', \n",
    "              'citric acid', 'residual sugar', 'chlorides', \n",
    "              'free sulfur dioxide', 'total sulfur dioxide', 'density', \n",
    "              'pH', 'sulphates', 'alcohol', 'quality']\n",
    "# changed name of object type column\n",
    "\n",
    "print('Dataset with new column name:\\n'\n",
    "     '-----------------------------')\n",
    "df.head(3)"
   ]
  },
  {
   "cell_type": "code",
   "execution_count": 12,
   "metadata": {},
   "outputs": [
    {
     "name": "stdout",
     "output_type": "stream",
     "text": [
      "All numeric dataset:\n",
      "--------------------\n"
     ]
    },
    {
     "data": {
      "text/html": [
       "<div>\n",
       "<style scoped>\n",
       "    .dataframe tbody tr th:only-of-type {\n",
       "        vertical-align: middle;\n",
       "    }\n",
       "\n",
       "    .dataframe tbody tr th {\n",
       "        vertical-align: top;\n",
       "    }\n",
       "\n",
       "    .dataframe thead th {\n",
       "        text-align: right;\n",
       "    }\n",
       "</style>\n",
       "<table border=\"1\" class=\"dataframe\">\n",
       "  <thead>\n",
       "    <tr style=\"text-align: right;\">\n",
       "      <th></th>\n",
       "      <th>type</th>\n",
       "      <th>fixed acidity</th>\n",
       "      <th>volatile acidity</th>\n",
       "      <th>citric acid</th>\n",
       "      <th>residual sugar</th>\n",
       "      <th>chlorides</th>\n",
       "      <th>free sulfur dioxide</th>\n",
       "      <th>total sulfur dioxide</th>\n",
       "      <th>density</th>\n",
       "      <th>pH</th>\n",
       "      <th>sulphates</th>\n",
       "      <th>alcohol</th>\n",
       "      <th>quality</th>\n",
       "    </tr>\n",
       "  </thead>\n",
       "  <tbody>\n",
       "    <tr>\n",
       "      <th>0</th>\n",
       "      <td>1</td>\n",
       "      <td>7.0</td>\n",
       "      <td>0.27</td>\n",
       "      <td>0.36</td>\n",
       "      <td>20.7</td>\n",
       "      <td>0.045</td>\n",
       "      <td>45.0</td>\n",
       "      <td>170.0</td>\n",
       "      <td>1.0010</td>\n",
       "      <td>3.00</td>\n",
       "      <td>0.45</td>\n",
       "      <td>8.8</td>\n",
       "      <td>6</td>\n",
       "    </tr>\n",
       "    <tr>\n",
       "      <th>1</th>\n",
       "      <td>1</td>\n",
       "      <td>6.3</td>\n",
       "      <td>0.30</td>\n",
       "      <td>0.34</td>\n",
       "      <td>1.6</td>\n",
       "      <td>0.049</td>\n",
       "      <td>14.0</td>\n",
       "      <td>132.0</td>\n",
       "      <td>0.9940</td>\n",
       "      <td>3.30</td>\n",
       "      <td>0.49</td>\n",
       "      <td>9.5</td>\n",
       "      <td>6</td>\n",
       "    </tr>\n",
       "    <tr>\n",
       "      <th>2</th>\n",
       "      <td>1</td>\n",
       "      <td>8.1</td>\n",
       "      <td>0.28</td>\n",
       "      <td>0.40</td>\n",
       "      <td>6.9</td>\n",
       "      <td>0.050</td>\n",
       "      <td>30.0</td>\n",
       "      <td>97.0</td>\n",
       "      <td>0.9951</td>\n",
       "      <td>3.26</td>\n",
       "      <td>0.44</td>\n",
       "      <td>10.1</td>\n",
       "      <td>6</td>\n",
       "    </tr>\n",
       "  </tbody>\n",
       "</table>\n",
       "</div>"
      ],
      "text/plain": [
       "   type  fixed acidity  volatile acidity  citric acid  residual sugar  \\\n",
       "0     1            7.0              0.27         0.36            20.7   \n",
       "1     1            6.3              0.30         0.34             1.6   \n",
       "2     1            8.1              0.28         0.40             6.9   \n",
       "\n",
       "   chlorides  free sulfur dioxide  total sulfur dioxide  density    pH  \\\n",
       "0      0.045                 45.0                 170.0   1.0010  3.00   \n",
       "1      0.049                 14.0                 132.0   0.9940  3.30   \n",
       "2      0.050                 30.0                  97.0   0.9951  3.26   \n",
       "\n",
       "   sulphates  alcohol  quality  \n",
       "0       0.45      8.8        6  \n",
       "1       0.49      9.5        6  \n",
       "2       0.44     10.1        6  "
      ]
     },
     "execution_count": 12,
     "metadata": {},
     "output_type": "execute_result"
    }
   ],
   "source": [
    "df.drop(['char_type'], axis=1, inplace=True)\n",
    "# drops the char_type or object type column\n",
    "# all columns are numeric now\n",
    "# inplace=True permanantely takes out the column \n",
    "\n",
    "print('All numeric dataset:\\n'\n",
    "     '--------------------')\n",
    "df.head(3)"
   ]
  },
  {
   "cell_type": "code",
   "execution_count": 13,
   "metadata": {},
   "outputs": [
    {
     "data": {
      "text/plain": [
       "38"
      ]
     },
     "execution_count": 13,
     "metadata": {},
     "output_type": "execute_result"
    }
   ],
   "source": [
    "df.isnull().sum().sum() \n",
    "# shows there are missing values labeled NaN"
   ]
  },
  {
   "cell_type": "code",
   "execution_count": 14,
   "metadata": {},
   "outputs": [
    {
     "data": {
      "text/plain": [
       "0"
      ]
     },
     "execution_count": 14,
     "metadata": {},
     "output_type": "execute_result"
    }
   ],
   "source": [
    "df.fillna(0, inplace=True)\n",
    "# replaces Nan values with 0\n",
    "df.isnull().sum().sum()\n",
    "# no more Nan values"
   ]
  },
  {
   "cell_type": "code",
   "execution_count": 15,
   "metadata": {},
   "outputs": [
    {
     "data": {
      "text/plain": [
       "(6497, 13)"
      ]
     },
     "execution_count": 15,
     "metadata": {},
     "output_type": "execute_result"
    }
   ],
   "source": [
    "df.shape"
   ]
  },
  {
   "cell_type": "code",
   "execution_count": 16,
   "metadata": {},
   "outputs": [],
   "source": [
    "# =============================================================================\n",
    "# Listing 6\n",
    "# ============================================================================="
   ]
  },
  {
   "cell_type": "code",
   "execution_count": 17,
   "metadata": {},
   "outputs": [
    {
     "name": "stdout",
     "output_type": "stream",
     "text": [
      "Pairwise Pearson Correlction of Wine Quality Dataset:\n",
      "                       type  fixed acidity  volatile acidity  citric acid  residual sugar  \\\n",
      "type                  1.000         -0.477            -0.652        0.187           0.349   \n",
      "fixed acidity        -0.477          1.000             0.213        0.321          -0.111   \n",
      "volatile acidity     -0.652          0.213             1.000       -0.378          -0.195   \n",
      "citric acid           0.187          0.321            -0.378        1.000           0.142   \n",
      "residual sugar        0.349         -0.111            -0.195        0.142           1.000   \n",
      "chlorides            -0.513          0.293             0.376        0.039          -0.129   \n",
      "free sulfur dioxide   0.472         -0.275            -0.352        0.133           0.403   \n",
      "total sulfur dioxide  0.700         -0.322            -0.415        0.195           0.495   \n",
      "density              -0.391          0.449             0.271        0.096           0.552   \n",
      "pH                   -0.265         -0.169             0.211       -0.266          -0.212   \n",
      "sulphates            -0.483          0.294             0.222        0.059          -0.184   \n",
      "alcohol               0.033         -0.093            -0.037       -0.010          -0.359   \n",
      "quality               0.119         -0.074            -0.266        0.086          -0.037   \n",
      "\n",
      "                      chlorides  free sulfur dioxide  total sulfur dioxide  density     pH  \\\n",
      "type                     -0.513                0.472                 0.700   -0.391 -0.265   \n",
      "fixed acidity             0.293               -0.275                -0.322    0.449 -0.169   \n",
      "volatile acidity          0.376               -0.352                -0.415    0.271  0.211   \n",
      "citric acid               0.039                0.133                 0.195    0.096 -0.266   \n",
      "residual sugar           -0.129                0.403                 0.495    0.552 -0.212   \n",
      "chlorides                 1.000               -0.195                -0.280    0.363  0.037   \n",
      "free sulfur dioxide      -0.195                1.000                 0.721    0.026 -0.115   \n",
      "total sulfur dioxide     -0.280                0.721                 1.000    0.032 -0.187   \n",
      "density                   0.363                0.026                 0.032    1.000  0.011   \n",
      "pH                        0.037               -0.115                -0.187    0.011  1.000   \n",
      "sulphates                 0.393               -0.188                -0.273    0.258  0.148   \n",
      "alcohol                  -0.257               -0.180                -0.266   -0.687  0.100   \n",
      "quality                  -0.200                0.055                -0.041   -0.306  0.014   \n",
      "\n",
      "                      sulphates  alcohol  quality  \n",
      "type                     -0.483    0.033    0.119  \n",
      "fixed acidity             0.294   -0.093   -0.074  \n",
      "volatile acidity          0.222   -0.037   -0.266  \n",
      "citric acid               0.059   -0.010    0.086  \n",
      "residual sugar           -0.184   -0.359   -0.037  \n",
      "chlorides                 0.393   -0.257   -0.200  \n",
      "free sulfur dioxide      -0.188   -0.180    0.055  \n",
      "total sulfur dioxide     -0.273   -0.266   -0.041  \n",
      "density                   0.258   -0.687   -0.306  \n",
      "pH                        0.148    0.100    0.014  \n",
      "sulphates                 1.000   -0.003    0.040  \n",
      "alcohol                  -0.003    1.000    0.444  \n",
      "quality                   0.040    0.444    1.000  \n"
     ]
    }
   ],
   "source": [
    "# ------------------------------\n",
    "# Pairwise Pearson Correlation |\n",
    "# -----------------------------\n",
    "\n",
    "set_option('display.width', 100)  # width of the display in characters\n",
    "set_option('precision', 3)  # sets number of digits\n",
    "correlations = df.corr(method='pearson')  # corr() function to calculate correlation matrix\n",
    "print(\"Pairwise Pearson Correlction of Wine Quality Dataset:\")\n",
    "print(correlations)"
   ]
  },
  {
   "cell_type": "code",
   "execution_count": 18,
   "metadata": {},
   "outputs": [
    {
     "name": "stdout",
     "output_type": "stream",
     "text": [
      "\n",
      "Skewness for Each Attribute of Wine Quality Dataset:\n",
      "type                   -1.179\n",
      "fixed acidity           1.385\n",
      "volatile acidity        1.482\n",
      "citric acid             0.470\n",
      "residual sugar          1.435\n",
      "chlorides               5.395\n",
      "free sulfur dioxide     1.220\n",
      "total sulfur dioxide   -0.001\n",
      "density                 0.504\n",
      "pH                     -5.480\n",
      "sulphates               1.757\n",
      "alcohol                 0.566\n",
      "quality                 0.190\n",
      "dtype: float64\n"
     ]
    }
   ],
   "source": [
    "# -------------------------\n",
    "# Skew for each Attribute |\n",
    "# ------------------------\n",
    "\n",
    "skew = df.skew()  # calculates skew of dataset\n",
    "print(\"\\nSkewness for Each Attribute of Wine Quality Dataset:\")\n",
    "print(skew)"
   ]
  },
  {
   "cell_type": "code",
   "execution_count": 19,
   "metadata": {},
   "outputs": [
    {
     "name": "stdout",
     "output_type": "stream",
     "text": [
      "\n",
      "Univariable Density Plot of Wine Quality Dataset:\n"
     ]
    },
    {
     "data": {
      "image/png": "[encoded data removed]",
      "text/plain": [
       "<Figure size 1440x720 with 16 Axes>"
      ]
     },
     "metadata": {
      "needs_background": "light"
     },
     "output_type": "display_data"
    }
   ],
   "source": [
    "# -------------------------\n",
    "# Univariate Denisty Plot |\n",
    "# ------------------------\n",
    "\n",
    "df.plot(kind='density', subplots=True, layout=(4,4), sharex=False, figsize=(20, 10))\n",
    "# subplots True: make separate subplot for each column\n",
    "# sharex False: an ax is passed in\n",
    "print(\"\\nUnivariable Density Plot of Wine Quality Dataset:\")\n",
    "pyplot.show()  # displays the plot"
   ]
  },
  {
   "cell_type": "code",
   "execution_count": 20,
   "metadata": {},
   "outputs": [
    {
     "name": "stdout",
     "output_type": "stream",
     "text": [
      "\n",
      "Correlation Matrix Plot for Wine Quality Dataset:\n"
     ]
    },
    {
     "data": {
      "image/png": "[encoded data removed]",
      "text/plain": [
       "<Figure size 1440x720 with 2 Axes>"
      ]
     },
     "metadata": {
      "needs_background": "light"
     },
     "output_type": "display_data"
    }
   ],
   "source": [
    "# -------------------------\n",
    "# Correlation Matrix Plot |\n",
    "# -------------------------\n",
    "\n",
    "names = ['type', 'fixed acidity', 'volatile acidity', \n",
    "         'citric acid', 'residual sugar', 'chlorides', \n",
    "         'free sulfur dioxide', 'total sulfur dioxide', 'density', \n",
    "         'pH', 'sulphates', 'alcohol', 'quality']\n",
    "\n",
    "fig = pyplot.figure(figsize=(20, 10))\n",
    "ax = fig.add_subplot(111)  # subplot grid parameters 1x1 grid, 1st subplot\n",
    "cax = ax.matshow(correlations, vmin=-1, vmax=1)\n",
    "fig.colorbar(cax)  # creates colorbar on axes\n",
    "ticks = numpy.arange(0,13,1)  # returns evenly spaced values within a given interval\n",
    "ax.set_xticks(ticks)\n",
    "ax.set_yticks(ticks)\n",
    "ax.set_xticklabels(names)\n",
    "ax.set_yticklabels(names)\n",
    "print(\"\\nCorrelation Matrix Plot for Wine Quality Dataset:\")\n",
    "pyplot.show()  # displays plot"
   ]
  },
  {
   "cell_type": "code",
   "execution_count": null,
   "metadata": {},
   "outputs": [],
   "source": [
    "'''\n",
    "Listing 6 Analysis:\n",
    "\n",
    "The Pairwise Pearson Correlation which is a plot showing the strength of \n",
    "relationship or correlation between the columns, the closer to 1.00 the number \n",
    "is, the closer the relationship is. A column or variable being 1.00 means it have \n",
    "a very strong relationship. -1.00 shows that it has less of a relationship. For \n",
    "example, volatile acidity is -0.652 on type so it shows that volatile acidity has \n",
    "very little relation to type. Also, total sulfur dioxide is 0.700 on type, which \n",
    "means it which means that total sulfur dioxide has a close relationship to type. \n",
    "\n",
    "For skewness of attributes, which is a measure of asymmetry of a distribution, \n",
    "it shows that type and pH are highly skewed since skewness is greater than -1; \n",
    "fixed acidity, volatile acidity, residual sugar, chlorides, free sulfur dioxide, \n",
    "citric acid and sulphates are also highly skewed because skewness is greater \n",
    "than +1; total sulfur dioxide and quality are approximately symmetric in \n",
    "distribution since skewness is between -1/2 and +1/2; and density and alcohol are \n",
    "moderately skewed since skewness is between +1/2 and +1.\n",
    "\n",
    "For the univariate density plot, which is the distribution of a variable in a \n",
    "dataset plotted on a continuous interval, it shows that there is more white wine \n",
    "than red wine, fixed acidity is greatest at about 6 and ends at 10, volatile \n",
    "acidity is greatest around 0.3 and drops and ends at 1.0, citric acid is greatest \n",
    "at 0.3 but starts increasing at around 0.0 and drops at 0.8, residual sugar is \n",
    "greatest at 0 and ends at 20, chlorides is greatest at 0.0 and drops and ends at \n",
    "0.1, free sulfur dioxide is greatest at 0 and drops at about 80, total sulfur \n",
    "dioxide starts at 0 and is greatest at about 150 and drops at around 230, density \n",
    "starts at 0.99 and is greatest at 0.999 and drops at 1.00, pH is greatest at 3, \n",
    "sulphates is greatest at 0.5, alcohol is greatest at 9.5 and drop and ends at 14 \n",
    "with a little fluctuation, quality fluctuates a lot from 4 to 8 and is greatest \n",
    "at 6. \n",
    "\n",
    "For the correlation matrix plot, which is a plot showing the strength of relationship\n",
    "or correlation between the columns, the closer to yellow (or 1.00) the color is, the \n",
    "closer the relationship is. The diagonal yellow boxes are represent each column being \n",
    "obviously fully related to each other. The darker or bluer (-1.00) the color, the less \n",
    "it has in relationship. For example, volatile acidity is dark blue on type so it shows \n",
    "that volatile acidity has no relation to type. Also, total sulfur dioxide is a very \n",
    "light green on type, which means it is closer to yellow or 1.00, which means that total \n",
    "sulfur dioxide has a close relationship to type.\n",
    "'''"
   ]
  },
  {
   "cell_type": "code",
   "execution_count": null,
   "metadata": {},
   "outputs": [],
   "source": [
    "# ===========================================================================\n",
    "# Listing 7\n",
    "# ==========================================================================="
   ]
  },
  {
   "cell_type": "code",
   "execution_count": 21,
   "metadata": {},
   "outputs": [],
   "source": [
    "# Listing 7 data\n",
    "array = df.values\n",
    "# separate array into input and output components\n",
    "X = array[:,0:-1]\n",
    "Y = array[:,12]"
   ]
  },
  {
   "cell_type": "code",
   "execution_count": 22,
   "metadata": {},
   "outputs": [
    {
     "name": "stdout",
     "output_type": "stream",
     "text": [
      "\n",
      "Rescaling Data between 0 and 1 from Wine Quality Dataset:\n",
      "\n",
      "[[1.    0.44  0.171 ... 0.748 0.225 0.116]\n",
      " [1.    0.396 0.19  ... 0.823 0.245 0.217]\n",
      " [1.    0.509 0.177 ... 0.813 0.22  0.304]\n",
      " ...\n",
      " [0.    0.396 0.323 ... 0.853 0.375 0.435]\n",
      " [0.    0.371 0.408 ... 0.89  0.355 0.319]\n",
      " [0.    0.377 0.196 ... 0.845 0.33  0.435]]\n"
     ]
    }
   ],
   "source": [
    "# ----------------\n",
    "# Rescaling Data |\n",
    "# ---------------\n",
    "\n",
    "min_max = MinMaxScaler(feature_range=(0,1))  # desired range of transformed data\n",
    "rescaledX = min_max.fit_transform(X)  # fit to data, then transform it\n",
    "set_printoptions(precision=3)  # sets number of digits\n",
    "print(\"\\nRescaling Data between 0 and 1 from Wine Quality Dataset:\\n\")\n",
    "print(rescaledX)"
   ]
  },
  {
   "cell_type": "code",
   "execution_count": 23,
   "metadata": {},
   "outputs": [
    {
     "name": "stdout",
     "output_type": "stream",
     "text": [
      "\n",
      "Standardize Data from Wine Quality Dataset:\n",
      "\n",
      "[[ 0.571 -0.155 -0.42  ... -1.068 -0.542 -1.419]\n",
      " [ 0.571 -0.683 -0.238 ...  0.43  -0.274 -0.832]\n",
      " [ 0.571  0.675 -0.359 ...  0.23  -0.609 -0.329]\n",
      " ...\n",
      " [-1.75  -0.683  1.035 ...  1.029  1.467  0.426]\n",
      " [-1.75  -0.984  1.853 ...  1.777  1.199 -0.245]\n",
      " [-1.75  -0.909 -0.177 ...  0.879  0.865  0.426]]\n"
     ]
    }
   ],
   "source": [
    "# ------------------\n",
    "# Standardize Data |\n",
    "# ------------------\n",
    "\n",
    "standardize = StandardScaler().fit(X)  # standardize features by removing the mean and scaling to unit variance\n",
    "rescaledX = standardize.transform(X)\n",
    "set_printoptions(precision=3)  # sets number of digits\n",
    "print(\"\\nStandardize Data from Wine Quality Dataset:\\n\")\n",
    "print(rescaledX)"
   ]
  },
  {
   "cell_type": "code",
   "execution_count": 24,
   "metadata": {},
   "outputs": [
    {
     "name": "stdout",
     "output_type": "stream",
     "text": [
      "\n",
      "Normalized Data from Wine Quality Dataset:\n",
      "\n",
      "[[0.006 0.039 0.002 ... 0.017 0.003 0.05 ]\n",
      " [0.008 0.047 0.002 ... 0.025 0.004 0.071]\n",
      " [0.01  0.079 0.003 ... 0.032 0.004 0.098]\n",
      " ...\n",
      " [0.    0.123 0.01  ... 0.067 0.015 0.215]\n",
      " [0.    0.106 0.012 ... 0.064 0.013 0.183]\n",
      " [0.    0.126 0.007 ... 0.071 0.014 0.231]]\n"
     ]
    }
   ],
   "source": [
    "# ----------------\n",
    "# Normalize Data |\n",
    "# ---------------\n",
    "\n",
    "normalize = Normalizer().fit(X)  # normalize samples individually to unit norm\n",
    "normalizedX = normalize.transform(X)\n",
    "set_printoptions(precision=3)  # sets number of digits\n",
    "print(\"\\nNormalized Data from Wine Quality Dataset:\\n\")\n",
    "print(normalizedX)"
   ]
  },
  {
   "cell_type": "code",
   "execution_count": 25,
   "metadata": {},
   "outputs": [
    {
     "name": "stdout",
     "output_type": "stream",
     "text": [
      "\n",
      "Binarized Data from Wine Quality Dataset:\n",
      "[[1. 1. 1. ... 1. 1. 1.]\n",
      " [1. 1. 1. ... 1. 1. 1.]\n",
      " [1. 1. 1. ... 1. 1. 1.]\n",
      " ...\n",
      " [0. 1. 1. ... 1. 1. 1.]\n",
      " [0. 1. 1. ... 1. 1. 1.]\n",
      " [0. 1. 1. ... 1. 1. 1.]]\n"
     ]
    }
   ],
   "source": [
    "# ---------------\n",
    "# Binarize Data |\n",
    "# --------------\n",
    "\n",
    "binarizer = Binarizer(threshold=0.0).fit(X)  # binarize data according to threshold\n",
    "# threshold: feature values below or equal to this are replaced by 0, above it by 1\n",
    "# fit is there to implement the usual API\n",
    "binaryX = binarizer.transform(X)\n",
    "set_printoptions(precision=3)  # sets number of digits\n",
    "print(\"\\nBinarized Data from Wine Quality Dataset:\")\n",
    "print(binaryX)"
   ]
  },
  {
   "cell_type": "code",
   "execution_count": null,
   "metadata": {},
   "outputs": [],
   "source": [
    "'''\n",
    "Listing 7 Analysis:\n",
    "\n",
    "The Min-Max Scaler scales or normalizes the input features/variables. The \n",
    "features are transformed into the range [0,1], or the minimum and maximum \n",
    "value of a feature if going to be 0 and 1 respectively. Normalization scales \n",
    "each input variable separately, also in the range of 0-1. Standardization \n",
    "scales each input variable separately by subtracting the mean and dividing \n",
    "by the standard deviation to shift the distribution to have a mean of zero \n",
    "and a standard deviation of one. Binarizing the data converts the data to 0 \n",
    "or 1 depending the threshold. Values below the threshold are converted to 0 \n",
    "and above the threshold are converted to 1.\n",
    "'''"
   ]
  }
 ],
 "metadata": {
  "kernelspec": {
   "display_name": "Python 3",
   "language": "python",
   "name": "python3"
  },
  "language_info": {
   "codemirror_mode": {
    "name": "ipython",
    "version": 3
   },
   "file_extension": ".py",
   "mimetype": "text/x-python",
   "name": "python",
   "nbconvert_exporter": "python",
   "pygments_lexer": "ipython3",
   "version": "3.7.6"
  }
 },
 "nbformat": 4,
 "nbformat_minor": 4
}
